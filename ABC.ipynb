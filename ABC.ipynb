{
 "cells": [
  {
   "cell_type": "markdown",
   "metadata": {},
   "source": [
    "#### Define settings"
   ]
  },
  {
   "cell_type": "code",
   "execution_count": 1,
   "metadata": {},
   "outputs": [],
   "source": [
    "sample_n = 50\n",
    "acc_rate = 0.2\n",
    "# the number of chosen samples\n",
    "top_n = int(sample_n * acc_rate)\n",
    "\n",
    "CPU_n = 4\n"
   ]
  },
  {
   "cell_type": "code",
   "execution_count": 2,
   "metadata": {},
   "outputs": [],
   "source": [
    "import time\n",
    "class clock:\n",
    "    start_t = 0\n",
    "    end_t = 0\n",
    "    @staticmethod\n",
    "    def start():\n",
    "        clock.start_t = time.time()\n",
    "    @staticmethod\n",
    "    def end():\n",
    "        clock.end_t = time.time()\n",
    "        print('Elapsed time: ',clock.end_t - clock.start_t)"
   ]
  },
  {
   "cell_type": "markdown",
   "metadata": {},
   "source": [
    "##### Define free parameters"
   ]
  },
  {
   "cell_type": "code",
   "execution_count": 2,
   "metadata": {},
   "outputs": [],
   "source": [
    "free_params = {\n",
    "    \"B_MSC_Pr\":[0.001,0.05],\n",
    "#     \"B_MSC_Mo\":[0.001,0.005]\n",
    "}\n",
    "free_params_keys = list(free_params.keys())\n",
    "free_params_bounds = list(free_params.values())\n"
   ]
  },
  {
   "cell_type": "markdown",
   "metadata": {},
   "source": [
    "##### Sample from free parameters"
   ]
  },
  {
   "cell_type": "code",
   "execution_count": 4,
   "metadata": {},
   "outputs": [],
   "source": [
    "from diversipy import lhd_matrix\n",
    "from diversipy import transform_spread_out\n",
    "import numpy as np\n",
    "# python version > 3.6\n",
    "non_scalled_samples = transform_spread_out(lhd_matrix(sample_n, len(free_params))).transpose()\n",
    "scaled_samples = []\n",
    "ii = 0\n",
    "for bounds in free_params_bounds:\n",
    "    low = bounds[0]\n",
    "    high = bounds[1]\n",
    "    \n",
    "    pre_samples_param = non_scalled_samples[ii]\n",
    "    \n",
    "    samples_param = list(map(lambda x:x*(high-low)+low ,pre_samples_param))\n",
    "    scaled_samples.append(samples_param)\n",
    "    ii+=1\n",
    "priors = {key:value for key,value in zip(free_params_keys,scaled_samples)}\n",
    "samples = np.array(scaled_samples).transpose()\n"
   ]
  },
  {
   "cell_type": "code",
   "execution_count": 5,
   "metadata": {},
   "outputs": [],
   "source": [
    "##### create parameter sets"
   ]
  },
  {
   "cell_type": "code",
   "execution_count": 6,
   "metadata": {},
   "outputs": [
    {
     "data": {
      "text/plain": [
       "[{'B_MSC_Pr': 0.032},\n",
       " {'B_MSC_Pr': 0.002},\n",
       " {'B_MSC_Pr': 0.027000000000000003},\n",
       " {'B_MSC_Pr': 0.007},\n",
       " {'B_MSC_Pr': 0.022000000000000002},\n",
       " {'B_MSC_Pr': 0.044000000000000004},\n",
       " {'B_MSC_Pr': 0.010000000000000002},\n",
       " {'B_MSC_Pr': 0.011},\n",
       " {'B_MSC_Pr': 0.023000000000000003},\n",
       " {'B_MSC_Pr': 0.019000000000000003},\n",
       " {'B_MSC_Pr': 0.006},\n",
       " {'B_MSC_Pr': 0.004},\n",
       " {'B_MSC_Pr': 0.017},\n",
       " {'B_MSC_Pr': 0.031000000000000003},\n",
       " {'B_MSC_Pr': 0.049},\n",
       " {'B_MSC_Pr': 0.045000000000000005},\n",
       " {'B_MSC_Pr': 0.048},\n",
       " {'B_MSC_Pr': 0.037000000000000005},\n",
       " {'B_MSC_Pr': 0.029},\n",
       " {'B_MSC_Pr': 0.014000000000000002},\n",
       " {'B_MSC_Pr': 0.042},\n",
       " {'B_MSC_Pr': 0.001},\n",
       " {'B_MSC_Pr': 0.04},\n",
       " {'B_MSC_Pr': 0.05},\n",
       " {'B_MSC_Pr': 0.033},\n",
       " {'B_MSC_Pr': 0.012},\n",
       " {'B_MSC_Pr': 0.021},\n",
       " {'B_MSC_Pr': 0.015},\n",
       " {'B_MSC_Pr': 0.003},\n",
       " {'B_MSC_Pr': 0.030000000000000002},\n",
       " {'B_MSC_Pr': 0.028},\n",
       " {'B_MSC_Pr': 0.013000000000000001},\n",
       " {'B_MSC_Pr': 0.024000000000000004},\n",
       " {'B_MSC_Pr': 0.039},\n",
       " {'B_MSC_Pr': 0.005},\n",
       " {'B_MSC_Pr': 0.034},\n",
       " {'B_MSC_Pr': 0.04700000000000001},\n",
       " {'B_MSC_Pr': 0.009000000000000001},\n",
       " {'B_MSC_Pr': 0.046000000000000006},\n",
       " {'B_MSC_Pr': 0.025},\n",
       " {'B_MSC_Pr': 0.036000000000000004},\n",
       " {'B_MSC_Pr': 0.02},\n",
       " {'B_MSC_Pr': 0.035},\n",
       " {'B_MSC_Pr': 0.018000000000000002},\n",
       " {'B_MSC_Pr': 0.043000000000000003},\n",
       " {'B_MSC_Pr': 0.008},\n",
       " {'B_MSC_Pr': 0.026000000000000002},\n",
       " {'B_MSC_Pr': 0.016},\n",
       " {'B_MSC_Pr': 0.041},\n",
       " {'B_MSC_Pr': 0.038}]"
      ]
     },
     "execution_count": 6,
     "metadata": {},
     "output_type": "execute_result"
    }
   ],
   "source": [
    "param_sets = []\n",
    "for sample in samples:\n",
    "    param_set = {}\n",
    "    for i in range(len(sample)):\n",
    "        sample_p = sample[i]\n",
    "        key = free_params_keys[i]\n",
    "        param_set.update({key:sample_p})\n",
    "    param_sets.append(param_set)"
   ]
  },
  {
   "cell_type": "markdown",
   "metadata": {},
   "source": [
    "##### Import the scheme: \n",
    "This contains configs, the returns, and the emperical data associated with each run"
   ]
  },
  {
   "cell_type": "code",
   "execution_count": 7,
   "metadata": {},
   "outputs": [],
   "source": [
    "import json\n",
    "SCHEMES_PATH = \"schemes.json\"\n",
    "with open(SCHEMES_PATH) as schemes_file:\n",
    "    schemes = json.load(schemes_file)[\"schemes\"]\n"
   ]
  },
  {
   "cell_type": "markdown",
   "metadata": {},
   "source": [
    "**Extract expectations from schemes**"
   ]
  },
  {
   "cell_type": "code",
   "execution_count": 8,
   "metadata": {},
   "outputs": [
    {
     "data": {
      "text/plain": [
       "[{'liveCellCount': [100, 160, 270], 'viability': [0.95]}]"
      ]
     },
     "execution_count": 8,
     "metadata": {},
     "output_type": "execute_result"
    }
   ],
   "source": [
    "expectations = [scheme[\"expectations\"] for scheme in schemes]"
   ]
  },
  {
   "cell_type": "markdown",
   "metadata": {},
   "source": [
    "**Define distance function** "
   ]
  },
  {
   "cell_type": "code",
   "execution_count": 9,
   "metadata": {},
   "outputs": [],
   "source": [
    "\n",
    "def distance_function(realizations,expectations):\n",
    "    distances = []\n",
    "    for i in range(len(realizations)):\n",
    "        raw_sim_data = realizations[i]\n",
    "        sim_data = {}\n",
    "        sim_liveCellCount = np.array(raw_sim_data[\"agents_count\"][\"MSC\"])\n",
    "        sim_totalCellCount = np.array(raw_sim_data[\"agents_count\"][\"MSC\"]) + np.array(raw_sim_data[\"agents_count\"][\"Dead\"])\n",
    "        sim_viability = sim_liveCellCount[-1]/sim_totalCellCount[-1] \n",
    "        sim_data.update({\"liveCellCount\":sim_liveCellCount,\n",
    "                         \"viability\": sim_viability})\n",
    "                \n",
    "        exp_data = expectations[i]\n",
    "\n",
    "        error_liveCellCount = (sim_data[\"liveCellCount\"] - np.array(exp_data[\"liveCellCount\"]))/np.array(exp_data[\"liveCellCount\"])\n",
    "        error_viability = (sim_data[\"viability\"] - np.array(exp_data[\"viability\"]))/np.array(exp_data[\"viability\"])\n",
    "\n",
    "        all_errors = np.concatenate((error_liveCellCount,error_viability),axis=0)\n",
    "        abs_all_errors = np.abs(all_errors)\n",
    "\n",
    "        distances.append(np.mean(abs_all_errors)) \n",
    "    \n",
    "    distance = np.mean(distances)\n",
    "    \n",
    "\n",
    "    return distance\n"
   ]
  },
  {
   "cell_type": "markdown",
   "metadata": {},
   "source": [
    "**Import the model**"
   ]
  },
  {
   "cell_type": "code",
   "execution_count": 10,
   "metadata": {},
   "outputs": [],
   "source": [
    "import os,sys\n",
    "sys.path.insert(1, '/Users/matin/Downloads/testProjs/CA')\n",
    "from model import Model"
   ]
  },
  {
   "cell_type": "markdown",
   "metadata": {},
   "source": [
    "**Run the model for each param set**"
   ]
  },
  {
   "cell_type": "code",
   "execution_count": 11,
   "metadata": {},
   "outputs": [],
   "source": [
    "import copy\n",
    "\n",
    "def run_model(args):\n",
    "    start_n = args[0]\n",
    "    end_n = args[1]\n",
    "    distances = np.array([])\n",
    "    for i in range(start_n,end_n):\n",
    "        param_set = param_sets[i]\n",
    "#         print(\"iteration \",i)\n",
    "        schemes_copy = copy.deepcopy(schemes)\n",
    "        sim_results_list = Model(param_set).run(schemes_copy)\n",
    "        distance = distance_function(sim_results_list,expectations)\n",
    "        distances = np.append(distances,distance)\n",
    "    return distances"
   ]
  },
  {
   "cell_type": "markdown",
   "metadata": {},
   "source": [
    "Run the model for each param set in parallel"
   ]
  },
  {
   "cell_type": "code",
   "execution_count": 12,
   "metadata": {},
   "outputs": [
    {
     "name": "stdout",
     "output_type": "stream",
     "text": [
      "Elapsed time:  44.684529066085815\n"
     ]
    }
   ],
   "source": [
    "from multiprocessing import Pool\n",
    "\n",
    "share = int(sample_n/CPU_n)\n",
    "plus =  sample_n%CPU_n\n",
    "\n",
    "indices =[np.array([x,x+1])*share for x in range(CPU_n)] \n",
    "# The last one gets more share\n",
    "indices[-1][1]+=plus\n",
    "\n",
    "pl = Pool(CPU_n)\n",
    "clock.start()\n",
    "results = pl.map(run_model,indices)\n",
    "clock.end()\n"
   ]
  },
  {
   "cell_type": "markdown",
   "metadata": {},
   "source": [
    "Concatenate the results coming from differen CPUs"
   ]
  },
  {
   "cell_type": "code",
   "execution_count": 13,
   "metadata": {},
   "outputs": [],
   "source": [
    "distances = [] \n",
    "for result in results:\n",
    "    distances = np.concatenate([distances,result],axis=0)"
   ]
  },
  {
   "cell_type": "markdown",
   "metadata": {},
   "source": [
    "## Post processing:\n",
    "- Extract the indices of min n values of distances\n",
    "- Extract the best fits\n",
    "- Extract associated samples\n",
    "- Create posteriors\n",
    "- Save posteriors"
   ]
  },
  {
   "cell_type": "code",
   "execution_count": 38,
   "metadata": {},
   "outputs": [
    {
     "name": "stdout",
     "output_type": "stream",
     "text": [
      "{'B_MSC_Pr': [0.015, 0.019000000000000003, 0.018000000000000002, 0.014000000000000002, 0.012, 0.016, 0.013000000000000001, 0.02, 0.023000000000000003, 0.017]}\n"
     ]
    }
   ],
   "source": [
    "import json\n",
    "top_ind = np.argpartition(distances, top_n)[:top_n]\n",
    "top_fit_distances = distances[top_ind]\n",
    "top_fit_samples = samples[top_ind]\n",
    "posteriors = {key:list(value) for key,value in zip(free_params_keys,top_fit_samples.transpose())}\n",
    "\n",
    "with open('outputs/posterior.json', 'w') as file:\n",
    "     file.write(json.dumps({'posteriors': posteriors}))\n"
   ]
  },
  {
   "cell_type": "markdown",
   "metadata": {},
   "source": [
    "### scale the posterior"
   ]
  },
  {
   "cell_type": "code",
   "execution_count": 3,
   "metadata": {},
   "outputs": [],
   "source": [
    "import json\n",
    "with open('outputs/posterior.json') as file:\n",
    "    posteriors = json.load(file)[\"posteriors\"]\n",
    "\n",
    "scalled_posteriors = {}\n",
    "for key,values in posteriors.items():\n",
    "    min_v = free_params[key][0]\n",
    "    max_v = free_params[key][1]\n",
    "    scalled = list(map(lambda x: (x-min_v)/(max_v-min_v),values))\n",
    "    scalled_posteriors.update({key:scalled})"
   ]
  },
  {
   "cell_type": "markdown",
   "metadata": {},
   "source": [
    "### Box Plot: median, quartiles, and raw data"
   ]
  },
  {
   "cell_type": "code",
   "execution_count": 6,
   "metadata": {},
   "outputs": [],
   "source": [
    "import plotly.graph_objects as go\n",
    "import plotly.offline\n",
    "# init_notebook_mode(connected=True)\n",
    "colors = ['rgba(93, 164, 214, 0.5)', 'rgba(255, 144, 14, 0.5)', 'rgba(44, 160, 101, 0.5)',\n",
    "          'rgba(255, 65, 54, 0.5)', 'rgba(207, 114, 255, 0.5)', 'rgba(127, 96, 0, 0.5)']\n",
    "traces = []\n",
    "ii = 0\n",
    "for key,value in scalled_posteriors.items():\n",
    "    traces.append(go.Box(\n",
    "        y=value,\n",
    "        name=key,\n",
    "        boxpoints='all',\n",
    "        jitter=0,\n",
    "        fillcolor=colors[ii],\n",
    "        marker_size=5,\n",
    "        whiskerwidth=0.2,\n",
    "        line_width=2)\n",
    "                 )\n",
    "    ii += 1\n",
    "layout = go.Layout(yaxis=dict(\n",
    "#                             autorange=True,\n",
    "#                             showgrid=False,\n",
    "                            dtick=0.2,\n",
    "                            zeroline = False,range= [-0.1,1.1]\n",
    "                            ),\n",
    "                    margin=dict(\n",
    "                            l=40,\n",
    "                            r=30,\n",
    "                            b=80,\n",
    "                            t=100\n",
    "                        ),\n",
    "                    showlegend=False,\n",
    "                    paper_bgcolor='rgb(243, 243, 243)',\n",
    "                    plot_bgcolor='rgb(243, 243, 243)',\n",
    "                   )\n",
    "fig = { \"data\": traces,\"layout\":layout }\n",
    "plotly.io.write_image(fig = { \"data\": traces,\"layout\":layout }, file=\"outputs/box_plot.svg\",format=\"svg\",scale=None, width=None, height=None)\n",
    "# plotly.offline.plot(fig = { \"data\": traces,\"layout\":layout }, auto_open = True)\n"
   ]
  },
  {
   "cell_type": "code",
   "execution_count": null,
   "metadata": {},
   "outputs": [],
   "source": []
  },
  {
   "cell_type": "code",
   "execution_count": null,
   "metadata": {},
   "outputs": [],
   "source": []
  }
 ],
 "metadata": {
  "kernelspec": {
   "display_name": "ABC",
   "language": "python",
   "name": "abc"
  },
  "language_info": {
   "codemirror_mode": {
    "name": "ipython",
    "version": 3
   },
   "file_extension": ".py",
   "mimetype": "text/x-python",
   "name": "python",
   "nbconvert_exporter": "python",
   "pygments_lexer": "ipython3",
   "version": "3.7.7"
  }
 },
 "nbformat": 4,
 "nbformat_minor": 4
}
